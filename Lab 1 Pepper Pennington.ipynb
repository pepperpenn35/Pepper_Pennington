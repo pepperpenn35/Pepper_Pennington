{
 "cells": [
  {
   "cell_type": "markdown",
   "metadata": {},
   "source": [
    "Pepper Pennington\n",
    "1/17/2019\n",
    "Function Exercise"
   ]
  },
  {
   "cell_type": "markdown",
   "metadata": {},
   "source": [
    "# Pythion Function Excercise"
   ]
  },
  {
   "cell_type": "code",
   "execution_count": 2,
   "metadata": {
    "scrolled": false
   },
   "outputs": [],
   "source": [
    "import numpy as np"
   ]
  },
  {
   "cell_type": "markdown",
   "metadata": {},
   "source": [
    "First, create function. For this example use the equation for total energy: $TE=\\frac{1}{2}mv^2+mgh$"
   ]
  },
  {
   "cell_type": "markdown",
   "metadata": {},
   "source": [
    "$\\alpha \\theta \\Delta \\Sigma \\sigma$"
   ]
  },
  {
   "cell_type": "code",
   "execution_count": 5,
   "metadata": {},
   "outputs": [],
   "source": [
    "def total_E(m,v,h):\n",
    "    TE=1/2*m*v**2 + m*9.8*h\n",
    "    return TE\n"
   ]
  },
  {
   "cell_type": "code",
   "execution_count": 11,
   "metadata": {},
   "outputs": [
    {
     "name": "stdout",
     "output_type": "stream",
     "text": [
      "Total Energy =  242.54999999999998 Joules\n"
     ]
    }
   ],
   "source": [
    "mass=1.2 #kg\n",
    "Velocity=3.5 #m/s\n",
    "Height=20 #m\n",
    "\n",
    "Total_energy = total_E(mass,Velocity,Height)\n",
    "print (\"Total Energy = \", Total_energy, \"Joules\")"
   ]
  },
  {
   "cell_type": "code",
   "execution_count": 12,
   "metadata": {},
   "outputs": [
    {
     "name": "stdout",
     "output_type": "stream",
     "text": [
      "[ 2 46 86 46 22]\n"
     ]
    }
   ],
   "source": [
    "mass_array = np.array([1,23,43,23,11])\n",
    "Velocity_array = np.array([22,6,98,67,8])\n",
    "Height_array = np.array([17,14,13,55,2])\n",
    "\n",
    "dbl_mass = 2*mass_array\n",
    "print (dbl_mass)"
   ]
  },
  {
   "cell_type": "code",
   "execution_count": 14,
   "metadata": {},
   "outputs": [
    {
     "name": "stdout",
     "output_type": "stream",
     "text": [
      "[   408.6   3569.6 211964.2  64020.5    567.6]\n"
     ]
    }
   ],
   "source": [
    "total_e_array = total_E(mass_array,Velocity_array,Height_array)\n",
    "print (total_e_array)"
   ]
  },
  {
   "cell_type": "code",
   "execution_count": null,
   "metadata": {},
   "outputs": [],
   "source": []
  }
 ],
 "metadata": {
  "kernelspec": {
   "display_name": "Python 3",
   "language": "python",
   "name": "python3"
  },
  "language_info": {
   "codemirror_mode": {
    "name": "ipython",
    "version": 3
   },
   "file_extension": ".py",
   "mimetype": "text/x-python",
   "name": "python",
   "nbconvert_exporter": "python",
   "pygments_lexer": "ipython3",
   "version": "3.7.2"
  }
 },
 "nbformat": 4,
 "nbformat_minor": 2
}
