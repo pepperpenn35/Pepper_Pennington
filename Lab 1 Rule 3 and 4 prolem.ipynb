{
 "cells": [
  {
   "cell_type": "markdown",
   "metadata": {},
   "source": [
    "Pepper Pennington\n",
    "1/17/2019\n",
    "Rule 3"
   ]
  },
  {
   "cell_type": "markdown",
   "metadata": {},
   "source": [
    "# Rule 3 "
   ]
  },
  {
   "cell_type": "code",
   "execution_count": 14,
   "metadata": {},
   "outputs": [
    {
     "name": "stdout",
     "output_type": "stream",
     "text": [
      "0.31622776601683794\n"
     ]
    }
   ],
   "source": [
    "import numpy as np\n",
    "\n",
    "def rule3(errorA,errorB):\n",
    "    errorQ = np.sqrt(errorA**2 +errorB**2)\n",
    "    return errorQ\n",
    "\n",
    "errorT_i = 0.3 #C\n",
    "errorT_f = 0.1 #C\n",
    "\n",
    "error_Delta_T = rule3(errorT_i,errorT_f)\n",
    "\n",
    "print (error_Delta_T)"
   ]
  },
  {
   "cell_type": "markdown",
   "metadata": {},
   "source": [
    "# Rule 4"
   ]
  },
  {
   "cell_type": "code",
   "execution_count": 15,
   "metadata": {},
   "outputs": [
    {
     "name": "stdout",
     "output_type": "stream",
     "text": [
      "alpha (mm) =  1.7228309558266145e-05\n",
      "Error alpha (mm) =  1.5962962826045274e-07\n"
     ]
    }
   ],
   "source": [
    "def rule4(errorA,errorB,errorC,A,B,C,Q):\n",
    "    errorQ = np.sqrt(((errorA/A)**2 + (errorB/B)**2 +(errorC/C)**2))*Q\n",
    "    return errorQ\n",
    "\n",
    "errorA = 0.01 #mm\n",
    "A = 1.25 #mm\n",
    "errorB = 1 #mm\n",
    "B = 1050 #mm\n",
    "errorC = error_Delta_T #C\n",
    "C = (92.5-23.4) #C\n",
    "Q = (A/(B*C))\n",
    "\n",
    "Error_alpha = rule4(errorA,errorB,errorC,A,B,C,Q)\n",
    "\n",
    "print (\"alpha (mm) = \", Q)\n",
    "print (\"Error alpha (mm) = \", Error_alpha)"
   ]
  },
  {
   "cell_type": "code",
   "execution_count": null,
   "metadata": {},
   "outputs": [],
   "source": []
  }
 ],
 "metadata": {
  "kernelspec": {
   "display_name": "Python 3",
   "language": "python",
   "name": "python3"
  },
  "language_info": {
   "codemirror_mode": {
    "name": "ipython",
    "version": 3
   },
   "file_extension": ".py",
   "mimetype": "text/x-python",
   "name": "python",
   "nbconvert_exporter": "python",
   "pygments_lexer": "ipython3",
   "version": "3.7.2"
  }
 },
 "nbformat": 4,
 "nbformat_minor": 2
}
